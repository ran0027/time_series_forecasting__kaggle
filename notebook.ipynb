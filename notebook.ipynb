{
 "cells": [
  {
   "cell_type": "markdown",
   "id": "ba86fdbd",
   "metadata": {},
   "source": [
    "The purpose of this notebook is to practice using time series forecasting with neural networks."
   ]
  },
  {
   "cell_type": "markdown",
   "id": "10cb1ceb",
   "metadata": {},
   "source": [
    "This is a [Kaggle dataset / competition](https://www.kaggle.com/datasets/kannanaikkal/food-demand-forecasting).\n",
    "\n",
    "We have 145 weeks worth of order data for a meal delivery service with 77 centers and 51 unique meal offerings. The goal is to forecast how many of each type of meal each center will order in the next 10 weeks."
   ]
  },
  {
   "cell_type": "markdown",
   "id": "db8f986c",
   "metadata": {},
   "source": [
    "First, import some standard libraries (including the ZipFile class from zipfile, for extracting data from a file within a zip archive.)"
   ]
  },
  {
   "cell_type": "code",
   "execution_count": 1,
   "id": "78d0550f",
   "metadata": {},
   "outputs": [],
   "source": [
    "from zipfile import ZipFile\n",
    "\n",
    "import pandas as pd\n",
    "import numpy as np\n",
    "\n",
    "import matplotlib.pyplot as plt"
   ]
  },
  {
   "cell_type": "markdown",
   "id": "34f61b5b",
   "metadata": {},
   "source": [
    "Next, load the data as a Pandas dataframe."
   ]
  },
  {
   "cell_type": "code",
   "execution_count": 2,
   "id": "a9b9ba84",
   "metadata": {},
   "outputs": [
    {
     "data": {
      "text/html": [
       "<div>\n",
       "<style scoped>\n",
       "    .dataframe tbody tr th:only-of-type {\n",
       "        vertical-align: middle;\n",
       "    }\n",
       "\n",
       "    .dataframe tbody tr th {\n",
       "        vertical-align: top;\n",
       "    }\n",
       "\n",
       "    .dataframe thead th {\n",
       "        text-align: right;\n",
       "    }\n",
       "</style>\n",
       "<table border=\"1\" class=\"dataframe\">\n",
       "  <thead>\n",
       "    <tr style=\"text-align: right;\">\n",
       "      <th></th>\n",
       "      <th>id</th>\n",
       "      <th>week</th>\n",
       "      <th>center_id</th>\n",
       "      <th>meal_id</th>\n",
       "      <th>checkout_price</th>\n",
       "      <th>base_price</th>\n",
       "      <th>emailer_for_promotion</th>\n",
       "      <th>homepage_featured</th>\n",
       "      <th>num_orders</th>\n",
       "    </tr>\n",
       "  </thead>\n",
       "  <tbody>\n",
       "    <tr>\n",
       "      <th>0</th>\n",
       "      <td>1379560</td>\n",
       "      <td>1</td>\n",
       "      <td>55</td>\n",
       "      <td>1885</td>\n",
       "      <td>136.83</td>\n",
       "      <td>152.29</td>\n",
       "      <td>0</td>\n",
       "      <td>0</td>\n",
       "      <td>177</td>\n",
       "    </tr>\n",
       "    <tr>\n",
       "      <th>1</th>\n",
       "      <td>1466964</td>\n",
       "      <td>1</td>\n",
       "      <td>55</td>\n",
       "      <td>1993</td>\n",
       "      <td>136.83</td>\n",
       "      <td>135.83</td>\n",
       "      <td>0</td>\n",
       "      <td>0</td>\n",
       "      <td>270</td>\n",
       "    </tr>\n",
       "    <tr>\n",
       "      <th>2</th>\n",
       "      <td>1346989</td>\n",
       "      <td>1</td>\n",
       "      <td>55</td>\n",
       "      <td>2539</td>\n",
       "      <td>134.86</td>\n",
       "      <td>135.86</td>\n",
       "      <td>0</td>\n",
       "      <td>0</td>\n",
       "      <td>189</td>\n",
       "    </tr>\n",
       "    <tr>\n",
       "      <th>3</th>\n",
       "      <td>1338232</td>\n",
       "      <td>1</td>\n",
       "      <td>55</td>\n",
       "      <td>2139</td>\n",
       "      <td>339.50</td>\n",
       "      <td>437.53</td>\n",
       "      <td>0</td>\n",
       "      <td>0</td>\n",
       "      <td>54</td>\n",
       "    </tr>\n",
       "    <tr>\n",
       "      <th>4</th>\n",
       "      <td>1448490</td>\n",
       "      <td>1</td>\n",
       "      <td>55</td>\n",
       "      <td>2631</td>\n",
       "      <td>243.50</td>\n",
       "      <td>242.50</td>\n",
       "      <td>0</td>\n",
       "      <td>0</td>\n",
       "      <td>40</td>\n",
       "    </tr>\n",
       "  </tbody>\n",
       "</table>\n",
       "</div>"
      ],
      "text/plain": [
       "        id  week  center_id  meal_id  checkout_price  base_price  \\\n",
       "0  1379560     1         55     1885          136.83      152.29   \n",
       "1  1466964     1         55     1993          136.83      135.83   \n",
       "2  1346989     1         55     2539          134.86      135.86   \n",
       "3  1338232     1         55     2139          339.50      437.53   \n",
       "4  1448490     1         55     2631          243.50      242.50   \n",
       "\n",
       "   emailer_for_promotion  homepage_featured  num_orders  \n",
       "0                      0                  0         177  \n",
       "1                      0                  0         270  \n",
       "2                      0                  0         189  \n",
       "3                      0                  0          54  \n",
       "4                      0                  0          40  "
      ]
     },
     "execution_count": 2,
     "metadata": {},
     "output_type": "execute_result"
    }
   ],
   "source": [
    "with ZipFile('Data/meal_delivery_archive.zip') as zipArchive:\n",
    "    with zipArchive.open('train.csv') as f:\n",
    "        raw = pd.read_csv(f)\n",
    "        \n",
    "raw.head()"
   ]
  },
  {
   "cell_type": "markdown",
   "id": "808a9cb6",
   "metadata": {},
   "source": [
    "First, let's check how many meal delivery centers are in the dataset (represented by center_id) and how many unique meals are served."
   ]
  },
  {
   "cell_type": "code",
   "execution_count": 12,
   "id": "c49633ab",
   "metadata": {},
   "outputs": [
    {
     "data": {
      "text/plain": [
       "77"
      ]
     },
     "execution_count": 12,
     "metadata": {},
     "output_type": "execute_result"
    }
   ],
   "source": [
    "len(raw.center_id.unique())"
   ]
  },
  {
   "cell_type": "code",
   "execution_count": 13,
   "id": "2e81b85e",
   "metadata": {},
   "outputs": [
    {
     "data": {
      "text/plain": [
       "51"
      ]
     },
     "execution_count": 13,
     "metadata": {},
     "output_type": "execute_result"
    }
   ],
   "source": [
    "len(raw.meal_id.unique())"
   ]
  },
  {
   "cell_type": "code",
   "execution_count": 45,
   "id": "a9404f67",
   "metadata": {},
   "outputs": [
    {
     "data": {
      "text/plain": [
       "145"
      ]
     },
     "execution_count": 45,
     "metadata": {},
     "output_type": "execute_result"
    }
   ],
   "source": [
    "len(raw.week.unique())"
   ]
  },
  {
   "cell_type": "markdown",
   "id": "2fbb962f",
   "metadata": {},
   "source": [
    "There are 77 centers, 51 meals and 145 weeks in the dataset."
   ]
  },
  {
   "cell_type": "code",
   "execution_count": 3,
   "id": "29a80c25",
   "metadata": {},
   "outputs": [],
   "source": [
    "data = raw.loc[:, ['week', 'center_id', 'meal_id', 'num_orders']].copy()"
   ]
  },
  {
   "cell_type": "code",
   "execution_count": 4,
   "id": "9b08f041",
   "metadata": {
    "scrolled": true
   },
   "outputs": [
    {
     "data": {
      "text/html": [
       "<div>\n",
       "<style scoped>\n",
       "    .dataframe tbody tr th:only-of-type {\n",
       "        vertical-align: middle;\n",
       "    }\n",
       "\n",
       "    .dataframe tbody tr th {\n",
       "        vertical-align: top;\n",
       "    }\n",
       "\n",
       "    .dataframe thead th {\n",
       "        text-align: right;\n",
       "    }\n",
       "</style>\n",
       "<table border=\"1\" class=\"dataframe\">\n",
       "  <thead>\n",
       "    <tr style=\"text-align: right;\">\n",
       "      <th></th>\n",
       "      <th>week</th>\n",
       "      <th>center_id</th>\n",
       "      <th>meal_id</th>\n",
       "      <th>num_orders</th>\n",
       "    </tr>\n",
       "  </thead>\n",
       "  <tbody>\n",
       "    <tr>\n",
       "      <th>0</th>\n",
       "      <td>1</td>\n",
       "      <td>55</td>\n",
       "      <td>1885</td>\n",
       "      <td>177</td>\n",
       "    </tr>\n",
       "    <tr>\n",
       "      <th>1</th>\n",
       "      <td>1</td>\n",
       "      <td>55</td>\n",
       "      <td>1993</td>\n",
       "      <td>270</td>\n",
       "    </tr>\n",
       "    <tr>\n",
       "      <th>2</th>\n",
       "      <td>1</td>\n",
       "      <td>55</td>\n",
       "      <td>2539</td>\n",
       "      <td>189</td>\n",
       "    </tr>\n",
       "    <tr>\n",
       "      <th>3</th>\n",
       "      <td>1</td>\n",
       "      <td>55</td>\n",
       "      <td>2139</td>\n",
       "      <td>54</td>\n",
       "    </tr>\n",
       "    <tr>\n",
       "      <th>4</th>\n",
       "      <td>1</td>\n",
       "      <td>55</td>\n",
       "      <td>2631</td>\n",
       "      <td>40</td>\n",
       "    </tr>\n",
       "  </tbody>\n",
       "</table>\n",
       "</div>"
      ],
      "text/plain": [
       "   week  center_id  meal_id  num_orders\n",
       "0     1         55     1885         177\n",
       "1     1         55     1993         270\n",
       "2     1         55     2539         189\n",
       "3     1         55     2139          54\n",
       "4     1         55     2631          40"
      ]
     },
     "execution_count": 4,
     "metadata": {},
     "output_type": "execute_result"
    }
   ],
   "source": [
    "data.head()"
   ]
  },
  {
   "cell_type": "code",
   "execution_count": 5,
   "id": "39b75837",
   "metadata": {},
   "outputs": [
    {
     "data": {
      "text/plain": [
       "29.0"
      ]
     },
     "execution_count": 5,
     "metadata": {},
     "output_type": "execute_result"
    }
   ],
   "source": [
    "145*0.2"
   ]
  },
  {
   "cell_type": "markdown",
   "id": "f4b019bf",
   "metadata": {},
   "source": [
    "We will reserve the last 30 weeks for testing, and the 30 weeks prior to that for validation."
   ]
  },
  {
   "cell_type": "code",
   "execution_count": 8,
   "id": "71e4403e",
   "metadata": {},
   "outputs": [
    {
     "data": {
      "text/plain": [
       "85"
      ]
     },
     "execution_count": 8,
     "metadata": {},
     "output_type": "execute_result"
    }
   ],
   "source": [
    "145 - 60"
   ]
  },
  {
   "cell_type": "code",
   "execution_count": 9,
   "id": "2d7613a3",
   "metadata": {},
   "outputs": [
    {
     "data": {
      "text/plain": [
       "115"
      ]
     },
     "execution_count": 9,
     "metadata": {},
     "output_type": "execute_result"
    }
   ],
   "source": [
    "145 - 30"
   ]
  },
  {
   "cell_type": "code",
   "execution_count": 10,
   "id": "3c6df52a",
   "metadata": {},
   "outputs": [],
   "source": [
    "train, val, test = data.loc[data.week<85], data.loc[(data.week>=85) & (data.week<115)], data.loc[data.week>=115]"
   ]
  },
  {
   "cell_type": "code",
   "execution_count": 11,
   "id": "6405cdd8",
   "metadata": {},
   "outputs": [
    {
     "name": "stdout",
     "output_type": "stream",
     "text": [
      "(257086, 4) (97701, 4) (101761, 4)\n"
     ]
    }
   ],
   "source": [
    "print(train.shape, val.shape, test.shape)"
   ]
  },
  {
   "cell_type": "code",
   "execution_count": 32,
   "id": "b86285c7",
   "metadata": {},
   "outputs": [
    {
     "data": {
      "text/html": [
       "<div>\n",
       "<style scoped>\n",
       "    .dataframe tbody tr th:only-of-type {\n",
       "        vertical-align: middle;\n",
       "    }\n",
       "\n",
       "    .dataframe tbody tr th {\n",
       "        vertical-align: top;\n",
       "    }\n",
       "\n",
       "    .dataframe thead th {\n",
       "        text-align: right;\n",
       "    }\n",
       "</style>\n",
       "<table border=\"1\" class=\"dataframe\">\n",
       "  <thead>\n",
       "    <tr style=\"text-align: right;\">\n",
       "      <th></th>\n",
       "      <th>week</th>\n",
       "      <th>center_id</th>\n",
       "      <th>meal_id</th>\n",
       "      <th>num_orders</th>\n",
       "    </tr>\n",
       "  </thead>\n",
       "  <tbody>\n",
       "    <tr>\n",
       "      <th>0</th>\n",
       "      <td>1</td>\n",
       "      <td>55</td>\n",
       "      <td>1885</td>\n",
       "      <td>177</td>\n",
       "    </tr>\n",
       "    <tr>\n",
       "      <th>1</th>\n",
       "      <td>1</td>\n",
       "      <td>55</td>\n",
       "      <td>1993</td>\n",
       "      <td>270</td>\n",
       "    </tr>\n",
       "    <tr>\n",
       "      <th>2</th>\n",
       "      <td>1</td>\n",
       "      <td>55</td>\n",
       "      <td>2539</td>\n",
       "      <td>189</td>\n",
       "    </tr>\n",
       "    <tr>\n",
       "      <th>3</th>\n",
       "      <td>1</td>\n",
       "      <td>55</td>\n",
       "      <td>2139</td>\n",
       "      <td>54</td>\n",
       "    </tr>\n",
       "    <tr>\n",
       "      <th>4</th>\n",
       "      <td>1</td>\n",
       "      <td>55</td>\n",
       "      <td>2631</td>\n",
       "      <td>40</td>\n",
       "    </tr>\n",
       "  </tbody>\n",
       "</table>\n",
       "</div>"
      ],
      "text/plain": [
       "   week  center_id  meal_id  num_orders\n",
       "0     1         55     1885         177\n",
       "1     1         55     1993         270\n",
       "2     1         55     2539         189\n",
       "3     1         55     2139          54\n",
       "4     1         55     2631          40"
      ]
     },
     "execution_count": 32,
     "metadata": {},
     "output_type": "execute_result"
    }
   ],
   "source": [
    "train.head()"
   ]
  },
  {
   "cell_type": "markdown",
   "id": "49df39e9",
   "metadata": {},
   "source": [
    "When preparing the data for modeling with an LSTM (long short-term memory) neural network in Keras, it is important that we have a consistent order to the values for \"num_orders\" with no gaps. For example, if center 12 didn't order any of meal 1198 in week 3, we need to have a \"num_orders\" value of 0 at that index, not a missing row.\n",
    "\n",
    "The below cells build a new Pandas series using data from the training data, grouped by week, center id and meal id, and a list of expected indices that includes all combinations of week, center id and meal id, in order, to build such a series."
   ]
  },
  {
   "cell_type": "code",
   "execution_count": 39,
   "id": "b37c7795",
   "metadata": {},
   "outputs": [],
   "source": [
    "grouped_train = train.groupby(['week', 'center_id', 'meal_id']).sum()"
   ]
  },
  {
   "cell_type": "code",
   "execution_count": 52,
   "id": "080928d8",
   "metadata": {},
   "outputs": [
    {
     "data": {
      "text/html": [
       "<div>\n",
       "<style scoped>\n",
       "    .dataframe tbody tr th:only-of-type {\n",
       "        vertical-align: middle;\n",
       "    }\n",
       "\n",
       "    .dataframe tbody tr th {\n",
       "        vertical-align: top;\n",
       "    }\n",
       "\n",
       "    .dataframe thead th {\n",
       "        text-align: right;\n",
       "    }\n",
       "</style>\n",
       "<table border=\"1\" class=\"dataframe\">\n",
       "  <thead>\n",
       "    <tr style=\"text-align: right;\">\n",
       "      <th></th>\n",
       "      <th></th>\n",
       "      <th></th>\n",
       "      <th>num_orders</th>\n",
       "    </tr>\n",
       "    <tr>\n",
       "      <th>week</th>\n",
       "      <th>center_id</th>\n",
       "      <th>meal_id</th>\n",
       "      <th></th>\n",
       "    </tr>\n",
       "  </thead>\n",
       "  <tbody>\n",
       "    <tr>\n",
       "      <th rowspan=\"11\" valign=\"top\">1</th>\n",
       "      <th rowspan=\"5\" valign=\"top\">10</th>\n",
       "      <th>1062</th>\n",
       "      <td>865</td>\n",
       "    </tr>\n",
       "    <tr>\n",
       "      <th>1109</th>\n",
       "      <td>2672</td>\n",
       "    </tr>\n",
       "    <tr>\n",
       "      <th>1198</th>\n",
       "      <td>269</td>\n",
       "    </tr>\n",
       "    <tr>\n",
       "      <th>1207</th>\n",
       "      <td>769</td>\n",
       "    </tr>\n",
       "    <tr>\n",
       "      <th>1216</th>\n",
       "      <td>54</td>\n",
       "    </tr>\n",
       "    <tr>\n",
       "      <th>...</th>\n",
       "      <th>...</th>\n",
       "      <td>...</td>\n",
       "    </tr>\n",
       "    <tr>\n",
       "      <th rowspan=\"5\" valign=\"top\">186</th>\n",
       "      <th>2631</th>\n",
       "      <td>40</td>\n",
       "    </tr>\n",
       "    <tr>\n",
       "      <th>2640</th>\n",
       "      <td>121</td>\n",
       "    </tr>\n",
       "    <tr>\n",
       "      <th>2707</th>\n",
       "      <td>161</td>\n",
       "    </tr>\n",
       "    <tr>\n",
       "      <th>2760</th>\n",
       "      <td>69</td>\n",
       "    </tr>\n",
       "    <tr>\n",
       "      <th>2826</th>\n",
       "      <td>270</td>\n",
       "    </tr>\n",
       "  </tbody>\n",
       "</table>\n",
       "<p>2922 rows × 1 columns</p>\n",
       "</div>"
      ],
      "text/plain": [
       "                        num_orders\n",
       "week center_id meal_id            \n",
       "1    10        1062            865\n",
       "               1109           2672\n",
       "               1198            269\n",
       "               1207            769\n",
       "               1216             54\n",
       "...                            ...\n",
       "     186       2631             40\n",
       "               2640            121\n",
       "               2707            161\n",
       "               2760             69\n",
       "               2826            270\n",
       "\n",
       "[2922 rows x 1 columns]"
      ]
     },
     "execution_count": 52,
     "metadata": {},
     "output_type": "execute_result"
    }
   ],
   "source": [
    "grouped_train.loc[week_marker == 1]"
   ]
  },
  {
   "cell_type": "markdown",
   "id": "51281e8d",
   "metadata": {},
   "source": [
    "Here, I am building the index for a series with every combination of week number, center id and meal id (in tuple form, in order) as the index."
   ]
  },
  {
   "cell_type": "code",
   "execution_count": 147,
   "id": "23526325",
   "metadata": {},
   "outputs": [],
   "source": [
    "expected_indices = []\n",
    "\n",
    "for week_no in range(1, 85):\n",
    "    for center_id in sorted(data.center_id.unique()):\n",
    "        for meal_id in sorted(data.meal_id.unique()):\n",
    "            expected_indices.append((week_no, center_id, meal_id))"
   ]
  },
  {
   "cell_type": "markdown",
   "id": "22619431",
   "metadata": {},
   "source": [
    "Then, I am iterating over every (week, center_id, meal_id) tuple in the expected index and filling in the number of orders from the dataset, if it is given, and otherwise, assuming that there were 0 orders for that meal to that center for that week."
   ]
  },
  {
   "cell_type": "code",
   "execution_count": 68,
   "id": "e164080f",
   "metadata": {},
   "outputs": [],
   "source": [
    "filled_in_values = []\n",
    "\n",
    "for index in expected_indices:\n",
    "    try:\n",
    "        num_orders = grouped_train.loc[index, 'num_orders']\n",
    "    except:\n",
    "        num_orders = 0\n",
    "    filled_in_values.append(num_orders)"
   ]
  },
  {
   "cell_type": "code",
   "execution_count": 79,
   "id": "4fdde277",
   "metadata": {},
   "outputs": [],
   "source": [
    "reindexed_train = pd.Series(filled_in_values, index=expected_indices, name='num_orders')"
   ]
  },
  {
   "cell_type": "code",
   "execution_count": 80,
   "id": "702c40ee",
   "metadata": {},
   "outputs": [
    {
     "data": {
      "text/plain": [
       "(1, 10, 1062)     865\n",
       "(1, 10, 1109)    2672\n",
       "(1, 10, 1198)     269\n",
       "(1, 10, 1207)     769\n",
       "(1, 10, 1216)      54\n",
       "Name: num_orders, dtype: int64"
      ]
     },
     "execution_count": 80,
     "metadata": {},
     "output_type": "execute_result"
    }
   ],
   "source": [
    "reindexed_train.head()"
   ]
  },
  {
   "cell_type": "markdown",
   "id": "4f289e85",
   "metadata": {},
   "source": [
    "The next step in preparing the data for modeling is to put it into the three-dimensional numpy array format expected by a Keras LSTM.\n",
    "\n",
    "The expected  shape is (sample_size, window_size, num_features) where window_size refers to how far back the model looks when making its prediction for the next week.\n",
    "\n",
    "So, for example, if we select a window_size of 5, our input array will look something like this:  \n",
    "\n",
    "\\[ \\[ list of week 1 orders \\], \\[ list of week 2 orders \\], ..., \\[ list of week 5 orders \\] \\]\n",
    "    \n",
    "And the corresponding output will be the list of week 6 orders:\n",
    "\n",
    "\\[ list of week 6 orders \\]\n",
    "\n",
    "Note that each `list of week i orders` is extraordinarily long: there are 77 centers and 51 meals that can be ordered by each center, so there are $77*51$ values for `num_orders` in a given week. These are in a predictable order due to our data preprocessing, so the model can learn the relationship for each center and meal combination."
   ]
  },
  {
   "cell_type": "markdown",
   "id": "d7272760",
   "metadata": {},
   "source": [
    "The code below iterates over the number of training examples with a given window size, and uses the \"filled_in_values\" list which gives the number of orders for each week, center-id and meal_id *in order* to create the numpy arrays for X and y specified above.\n",
    "\n",
    "Depending on the window size, we will need to create a different input array, so specify that initially."
   ]
  },
  {
   "cell_type": "code",
   "execution_count": 96,
   "id": "b1f31d34",
   "metadata": {},
   "outputs": [
    {
     "name": "stdout",
     "output_type": "stream",
     "text": [
      "(79, 5, 3927) (79, 3927)\n"
     ]
    }
   ],
   "source": [
    "window_size = 5\n",
    "\n",
    "# constant for this dataset:\n",
    "num_center_meal_combos = 77*51\n",
    "\n",
    "X = []\n",
    "y = []\n",
    "for i in range(1, 85-window_size):\n",
    "    window = []\n",
    "    for week_no in range(i, i + window_size):\n",
    "        window_start = (week_no - 1)*num_center_meal_combos\n",
    "        window_stop = week_no*num_center_meal_combos\n",
    "        window.append(filled_in_values[window_start:window_stop])\n",
    "    X.append(window)\n",
    "    label_stop = (week_no + 1)*num_center_meal_combos\n",
    "    label = filled_in_values[window_stop:label_stop]\n",
    "    y.append(label)\n",
    "X = np.array(X)\n",
    "y = np.array(y)\n",
    "print(X.shape, y.shape)"
   ]
  },
  {
   "cell_type": "markdown",
   "id": "e5337a0c",
   "metadata": {},
   "source": [
    "Check results:"
   ]
  },
  {
   "cell_type": "code",
   "execution_count": 97,
   "id": "1ff1f0b0",
   "metadata": {},
   "outputs": [
    {
     "data": {
      "text/plain": [
       "array([[[ 865, 2672,  269,  769,   54,  324,   53,  177,  595,   95],\n",
       "        [ 782, 1864,  136,  458,   94,  458,   67,  285,  458,   81],\n",
       "        [ 851, 1161,  418,  418,   96,  337,   27,  756,  445,   40],\n",
       "        [1202, 1376,  243,  459,  230,  393,   69,  339,  366,   41],\n",
       "        [ 958, 1511,  150,  312,  189,  162,   26,  501,  432,   15]],\n",
       "\n",
       "       [[ 782, 1864,  136,  458,   94,  458,   67,  285,  458,   81],\n",
       "        [ 851, 1161,  418,  418,   96,  337,   27,  756,  445,   40],\n",
       "        [1202, 1376,  243,  459,  230,  393,   69,  339,  366,   41],\n",
       "        [ 958, 1511,  150,  312,  189,  162,   26,  501,  432,   15],\n",
       "        [1094, 2105,  176,  296,  148,   80,   82,   69,  743,   53]]])"
      ]
     },
     "execution_count": 97,
     "metadata": {},
     "output_type": "execute_result"
    }
   ],
   "source": [
    "X[:2, :, :10]"
   ]
  },
  {
   "cell_type": "markdown",
   "id": "c312064d",
   "metadata": {},
   "source": [
    "The array above shows us the first two \"windows\" of our time series data, where each sub-list is a single time step (and, as such, we have 5 such lists with a window size of 5), and we see the number of orders for the first 10 meal-center combinations. In the output array, we should see the corresponding *next* week of orders for the first 10 meal-center combinations:"
   ]
  },
  {
   "cell_type": "code",
   "execution_count": 98,
   "id": "1f322671",
   "metadata": {},
   "outputs": [
    {
     "data": {
      "text/plain": [
       "array([[1094, 2105,  176,  296,  148,   80,   82,   69,  743,   53],\n",
       "       [1513, 1916,  405,  150,  149,  148,   15,   55,  431,   53]])"
      ]
     },
     "execution_count": 98,
     "metadata": {},
     "output_type": "execute_result"
    }
   ],
   "source": [
    "y[:2, :10]"
   ]
  },
  {
   "cell_type": "markdown",
   "id": "090da918",
   "metadata": {},
   "source": [
    "Now, we can build a predictive model. Out of curiosity, the first model I build uses an LSTM layer, but allows the state to be reset after each batch of the training data."
   ]
  },
  {
   "cell_type": "code",
   "execution_count": 113,
   "id": "fdffe427",
   "metadata": {},
   "outputs": [],
   "source": [
    "model1 = Sequential()\n",
    "model1.add(InputLayer((5, 3927))) # specify window size, number of features for input layer\n",
    "model1.add(LSTM(20, activation='relu'))\n",
    "model1.add(Dense(y.shape[-1])) # make 77*51 predictions for next week\n",
    "model1.compile(loss='mean_absolute_percentage_error', optimizer='adam')"
   ]
  },
  {
   "cell_type": "code",
   "execution_count": 114,
   "id": "ec27cba7",
   "metadata": {},
   "outputs": [
    {
     "name": "stdout",
     "output_type": "stream",
     "text": [
      "3/3 [==============================] - 1s 9ms/step - loss: 7158711296.0000\n"
     ]
    },
    {
     "data": {
      "text/plain": [
       "<keras.callbacks.History at 0x17fe798d0>"
      ]
     },
     "execution_count": 114,
     "metadata": {},
     "output_type": "execute_result"
    }
   ],
   "source": [
    "model1.fit(X, y)"
   ]
  },
  {
   "cell_type": "code",
   "execution_count": 115,
   "id": "ef440ff4",
   "metadata": {},
   "outputs": [
    {
     "name": "stdout",
     "output_type": "stream",
     "text": [
      "Epoch 1/3\n",
      "3/3 [==============================] - 0s 8ms/step - loss: 346486112.0000\n",
      "Epoch 2/3\n",
      "3/3 [==============================] - 0s 6ms/step - loss: 320259.8750\n",
      "Epoch 3/3\n",
      "3/3 [==============================] - 0s 6ms/step - loss: 172646.2969\n"
     ]
    },
    {
     "data": {
      "text/plain": [
       "<keras.callbacks.History at 0x18723b550>"
      ]
     },
     "execution_count": 115,
     "metadata": {},
     "output_type": "execute_result"
    }
   ],
   "source": [
    "model1.fit(X, y, epochs=3)"
   ]
  },
  {
   "cell_type": "markdown",
   "id": "09aaa908",
   "metadata": {},
   "source": [
    "With the state being reset after every batch, we still see some improvements with each epoch (particularly from the first to the second.)"
   ]
  },
  {
   "cell_type": "markdown",
   "id": "721f788f",
   "metadata": {},
   "source": [
    "For a second model, we will specify that the LSTM is stateful, meaning that Keras will never reset the state of that cell.\n",
    "\n",
    "When we do so, we have to specify the batch size when we create the LSTM layer. The number of training examples is originally 79, which I believe is prime, so I am leaving off the last 3 examples to allow the training sample size to be evenly divisible by a batch size of 4.\n",
    "\n",
    "Then we reset the model's state manually after each epoch. But out of curiosity, if we don't reset the state, what is the effect after 3 epochs of training?"
   ]
  },
  {
   "cell_type": "code",
   "execution_count": 130,
   "id": "bcef4d73",
   "metadata": {},
   "outputs": [],
   "source": [
    "model2 = Sequential()\n",
    "model2.add(LSTM(20, activation='relu', batch_input_shape=(4, 5, 3927), stateful=True))\n",
    "model2.add(Dense(y.shape[-1]))\n",
    "model2.compile(loss='mean_absolute_percentage_error', optimizer='adam')"
   ]
  },
  {
   "cell_type": "code",
   "execution_count": 127,
   "id": "c08fea01",
   "metadata": {},
   "outputs": [
    {
     "data": {
      "text/plain": [
       "76"
      ]
     },
     "execution_count": 127,
     "metadata": {},
     "output_type": "execute_result"
    }
   ],
   "source": [
    "X.shape[0] - 3"
   ]
  },
  {
   "cell_type": "code",
   "execution_count": 139,
   "id": "b7bf5dc0",
   "metadata": {},
   "outputs": [
    {
     "data": {
      "text/plain": [
       "(76, 5, 3927)"
      ]
     },
     "execution_count": 139,
     "metadata": {},
     "output_type": "execute_result"
    }
   ],
   "source": [
    "X[:76].shape"
   ]
  },
  {
   "cell_type": "code",
   "execution_count": 138,
   "id": "b137e747",
   "metadata": {
    "scrolled": true
   },
   "outputs": [
    {
     "name": "stdout",
     "output_type": "stream",
     "text": [
      "Epoch 1/3\n",
      "19/19 [==============================] - 0s 4ms/step - loss: 3670927360.0000\n",
      "Epoch 2/3\n",
      "19/19 [==============================] - 0s 3ms/step - loss: 405323840.0000\n",
      "Epoch 3/3\n",
      "19/19 [==============================] - 0s 3ms/step - loss: 141486432.0000\n"
     ]
    },
    {
     "data": {
      "text/plain": [
       "<keras.callbacks.History at 0x1877bb640>"
      ]
     },
     "execution_count": 138,
     "metadata": {},
     "output_type": "execute_result"
    }
   ],
   "source": [
    "model2.fit(X[:76], y[:76], epochs=3, batch_size=4)"
   ]
  },
  {
   "cell_type": "markdown",
   "id": "67d8412a",
   "metadata": {},
   "source": [
    "With *not* resetting the state after each epoch, the model understandably doesn't do very well. (It is using information from the *end* of the 84 weeks to predict the *beginning* of the 84 week cycle in the next epoch, which would only ever work out coincidentally.)"
   ]
  },
  {
   "cell_type": "markdown",
   "id": "91ee10b9",
   "metadata": {},
   "source": [
    "Run the model properly, with resetting the LSTM's state after each epoch:"
   ]
  },
  {
   "cell_type": "code",
   "execution_count": 140,
   "id": "1c706900",
   "metadata": {},
   "outputs": [
    {
     "name": "stdout",
     "output_type": "stream",
     "text": [
      "19/19 [==============================] - 1s 3ms/step - loss: 285960372224.0000\n",
      "19/19 [==============================] - 0s 3ms/step - loss: 2115662.7500\n",
      "19/19 [==============================] - 0s 3ms/step - loss: 520845.8438\n",
      "19/19 [==============================] - 0s 3ms/step - loss: 164460.9375\n",
      "19/19 [==============================] - 0s 3ms/step - loss: 74325.4219\n"
     ]
    },
    {
     "data": {
      "text/plain": [
       "{'loss': [74325.421875]}"
      ]
     },
     "execution_count": 140,
     "metadata": {},
     "output_type": "execute_result"
    }
   ],
   "source": [
    "num_epochs = 5\n",
    "\n",
    "model3 = Sequential()\n",
    "model3.add(LSTM(20, activation='relu', batch_input_shape=(4, 5, 3927), stateful=True))\n",
    "model3.add(Dense(y.shape[-1]))\n",
    "model3.compile(loss='mean_absolute_percentage_error', optimizer='adam')\n",
    "\n",
    "for i in range(num_epochs):\n",
    "    model3.fit(X[:76], y[:76], epochs=1, batch_size=4)\n",
    "    model3.reset_states()\n",
    "    \n",
    "model3.history.history"
   ]
  },
  {
   "cell_type": "markdown",
   "id": "dac55e57",
   "metadata": {},
   "source": [
    "All of this is good and fun, but we need validation data to properly tune our model.\n",
    "\n",
    "Let's preprocess our validation data similarly to how we preprocessed the training data:"
   ]
  },
  {
   "cell_type": "code",
   "execution_count": 141,
   "id": "6269fe07",
   "metadata": {},
   "outputs": [],
   "source": [
    "grouped_val = val.groupby(['week', 'center_id', 'meal_id']).sum()"
   ]
  },
  {
   "cell_type": "code",
   "execution_count": 143,
   "id": "b3250edc",
   "metadata": {},
   "outputs": [
    {
     "data": {
      "text/plain": [
       "array([ 85,  86,  87,  88,  89,  90,  91,  92,  93,  94,  95,  96,  97,\n",
       "        98,  99, 100, 101, 102, 103, 104, 105, 106, 107, 108, 109, 110,\n",
       "       111, 112, 113, 114])"
      ]
     },
     "execution_count": 143,
     "metadata": {},
     "output_type": "execute_result"
    }
   ],
   "source": [
    "val.week.unique()"
   ]
  },
  {
   "cell_type": "code",
   "execution_count": 146,
   "id": "38af803a",
   "metadata": {},
   "outputs": [],
   "source": [
    "val_expected_indices = []\n",
    "\n",
    "for week_no in range(85, 115):\n",
    "    for center_id in sorted(data.center_id.unique()):\n",
    "        for meal_id in sorted(data.meal_id.unique()):\n",
    "            val_expected_indices.append((week_no, center_id, meal_id))"
   ]
  },
  {
   "cell_type": "code",
   "execution_count": 149,
   "id": "e6e1ff2a",
   "metadata": {},
   "outputs": [],
   "source": [
    "val_filled_in_values = []\n",
    "\n",
    "for index in val_expected_indices:\n",
    "    try:\n",
    "        num_orders = grouped_val.loc[index, 'num_orders']\n",
    "    except:\n",
    "        num_orders = 0\n",
    "    val_filled_in_values.append(num_orders)"
   ]
  },
  {
   "cell_type": "code",
   "execution_count": 158,
   "id": "5342262d",
   "metadata": {},
   "outputs": [
    {
     "data": {
      "text/plain": [
       "117810"
      ]
     },
     "execution_count": 158,
     "metadata": {},
     "output_type": "execute_result"
    }
   ],
   "source": [
    "len(val_filled_in_values)"
   ]
  },
  {
   "cell_type": "code",
   "execution_count": 156,
   "id": "d7ba0b5f",
   "metadata": {},
   "outputs": [
    {
     "data": {
      "text/plain": [
       "5"
      ]
     },
     "execution_count": 156,
     "metadata": {},
     "output_type": "execute_result"
    }
   ],
   "source": [
    "window_size"
   ]
  },
  {
   "cell_type": "code",
   "execution_count": 157,
   "id": "26c772ae",
   "metadata": {},
   "outputs": [
    {
     "data": {
      "text/plain": [
       "3927"
      ]
     },
     "execution_count": 157,
     "metadata": {},
     "output_type": "execute_result"
    }
   ],
   "source": [
    "num_center_meal_combos"
   ]
  },
  {
   "cell_type": "code",
   "execution_count": 159,
   "id": "84ca358f",
   "metadata": {},
   "outputs": [
    {
     "data": {
      "text/plain": [
       "array([ 85,  86,  87,  88,  89,  90,  91,  92,  93,  94,  95,  96,  97,\n",
       "        98,  99, 100, 101, 102, 103, 104, 105, 106, 107, 108, 109, 110,\n",
       "       111, 112, 113, 114])"
      ]
     },
     "execution_count": 159,
     "metadata": {},
     "output_type": "execute_result"
    }
   ],
   "source": [
    "val.week.unique()"
   ]
  },
  {
   "cell_type": "code",
   "execution_count": 154,
   "id": "1da7c8ed",
   "metadata": {},
   "outputs": [
    {
     "name": "stdout",
     "output_type": "stream",
     "text": [
      "(25, 5, 0) (25, 0)\n"
     ]
    }
   ],
   "source": [
    "X_val = []\n",
    "y_val = []\n",
    "for i in range(85, 115-window_size):\n",
    "    window = []\n",
    "    for week_no in range(i, i + window_size):\n",
    "        window_start = (week_no - 1)*num_center_meal_combos\n",
    "        window_stop = week_no*num_center_meal_combos\n",
    "        window.append(val_filled_in_values[window_start:window_stop])\n",
    "    X_val.append(window)\n",
    "    label_stop = (week_no + 1)*num_center_meal_combos\n",
    "    label = val_filled_in_values[window_stop:label_stop]\n",
    "    y_val.append(label)\n",
    "X_val = np.array(X_val)\n",
    "y_val = np.array(y_val)\n",
    "print(X_val.shape, y_val.shape)"
   ]
  },
  {
   "cell_type": "code",
   "execution_count": 155,
   "id": "ce0b85ae",
   "metadata": {},
   "outputs": [
    {
     "data": {
      "text/plain": [
       "array([], shape=(25, 5, 0), dtype=float64)"
      ]
     },
     "execution_count": 155,
     "metadata": {},
     "output_type": "execute_result"
    }
   ],
   "source": [
    "X_val"
   ]
  }
 ],
 "metadata": {
  "kernelspec": {
   "display_name": "Python (nn)",
   "language": "python",
   "name": "nn"
  },
  "language_info": {
   "codemirror_mode": {
    "name": "ipython",
    "version": 3
   },
   "file_extension": ".py",
   "mimetype": "text/x-python",
   "name": "python",
   "nbconvert_exporter": "python",
   "pygments_lexer": "ipython3",
   "version": "3.10.9"
  }
 },
 "nbformat": 4,
 "nbformat_minor": 5
}
